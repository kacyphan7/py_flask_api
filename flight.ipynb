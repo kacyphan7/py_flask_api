{
 "cells": [
  {
   "cell_type": "code",
   "execution_count": 29,
   "metadata": {},
   "outputs": [],
   "source": [
    "import json\n",
    "from selenium import webdriver \n",
    "import datetime, requests, random, time\n",
    "from selenium.webdriver.common.by import By"
   ]
  },
  {
   "cell_type": "code",
   "execution_count": 30,
   "metadata": {},
   "outputs": [],
   "source": [
    "driver = webdriver.Chrome()"
   ]
  },
  {
   "cell_type": "code",
   "execution_count": 31,
   "metadata": {},
   "outputs": [],
   "source": [
    "driver.get('https://www.delta.com/')"
   ]
  },
  {
   "cell_type": "code",
   "execution_count": 35,
   "metadata": {},
   "outputs": [
    {
     "name": "stdout",
     "output_type": "stream",
     "text": [
      "departure airport code\n",
      "OAK\n"
     ]
    }
   ],
   "source": [
    "departure_location = driver.find_element(By.XPATH, '/html/body/app-root/div/div[2]/app-flight-result-view/div/div[2]/div/app-grid-flight-result-container/div[2]/div/div[1]/app-grid-flight-card/div/div[4]/div[2]/div/div[1]').text\n",
    "print(departure_location)"
   ]
  },
  {
   "cell_type": "code",
   "execution_count": 36,
   "metadata": {},
   "outputs": [
    {
     "name": "stdout",
     "output_type": "stream",
     "text": [
      "arrival airport code\n",
      "DCA\n"
     ]
    }
   ],
   "source": [
    "arrival_location = driver.find_element(By.XPATH, '/html/body/app-root/div/div[2]/app-flight-result-view/div/div[2]/div/app-grid-flight-result-container/div[2]/div/div[1]/app-grid-flight-card/div/div[4]/div[2]/div/div[3]').text\n",
    "print(arrival_location)"
   ]
  },
  {
   "cell_type": "code",
   "execution_count": 37,
   "metadata": {},
   "outputs": [
    {
     "name": "stdout",
     "output_type": "stream",
     "text": [
      "6:00am\n"
     ]
    }
   ],
   "source": [
    "departure_time = driver.find_element(By.XPATH, '/html/body/app-root/div/div[2]/app-flight-result-view/div/div[2]/div/app-grid-flight-result-container/div[2]/div/div[1]/app-grid-flight-card/div/div[3]/div[1]/span[2]').text\n",
    "print(departure_time)"
   ]
  },
  {
   "cell_type": "code",
   "execution_count": 38,
   "metadata": {},
   "outputs": [
    {
     "name": "stdout",
     "output_type": "stream",
     "text": [
      "4:00pm\n"
     ]
    }
   ],
   "source": [
    "arrival_time = driver.find_element(By.XPATH, '/html/body/app-root/div/div[2]/app-flight-result-view/div/div[2]/div/app-grid-flight-result-container/div[2]/div/div[1]/app-grid-flight-card/div/div[3]/div[3]/span[2]').text\n",
    "print(arrival_time)"
   ]
  },
  {
   "cell_type": "code",
   "execution_count": 39,
   "metadata": {},
   "outputs": [
    {
     "name": "stdout",
     "output_type": "stream",
     "text": [
      "Wed, Aug 9, 2023\n"
     ]
    }
   ],
   "source": [
    "date = driver.find_element(By.XPATH, '//*[@id=\"maincontent\"]/div[3]/div/div/div[1]/app-date-disclaimer-links-view/div/div/div/div[1]/div').text\n",
    "print(date)"
   ]
  },
  {
   "cell_type": "code",
   "execution_count": 40,
   "metadata": {},
   "outputs": [
    {
     "name": "stdout",
     "output_type": "stream",
     "text": [
      "Sold Out\n"
     ]
    }
   ],
   "source": [
    "basic = driver.find_element(By.XPATH, '/html/body/app-root/div/div[2]/app-flight-result-view/div/div[2]/div/app-grid-flight-result-container/div[2]/div/app-grid-fare-cell/div/div[1]/div/div').text\n",
    "print(basic)"
   ]
  },
  {
   "cell_type": "code",
   "execution_count": 41,
   "metadata": {},
   "outputs": [
    {
     "name": "stdout",
     "output_type": "stream",
     "text": [
      "Main Cabin Class\n",
      "$\n",
      "634\n",
      "Round Trip\n",
      "Select this Flight\n"
     ]
    }
   ],
   "source": [
    "main = driver.find_element(By.XPATH, '/html/body/app-root/div/div[2]/app-flight-result-view/div/div[2]/div/app-grid-flight-result-container/div[2]/div/app-grid-fare-cell/div/div[2]/div/app-grid-fare-cell-modal/a').text\n",
    "print(main)"
   ]
  },
  {
   "cell_type": "code",
   "execution_count": 42,
   "metadata": {},
   "outputs": [
    {
     "name": "stdout",
     "output_type": "stream",
     "text": [
      "Comfort+ Cabin Class\n",
      "$\n",
      "874\n",
      "Round Trip\n",
      "Select this Flight\n"
     ]
    }
   ],
   "source": [
    "comfort = driver.find_element(By.XPATH, '/html/body/app-root/div/div[2]/app-flight-result-view/div/div[2]/div/app-grid-flight-result-container/div[2]/div/app-grid-fare-cell/div/div[3]/div/app-grid-fare-cell-modal/a').text\n",
    "print(comfort)"
   ]
  },
  {
   "cell_type": "code",
   "execution_count": 43,
   "metadata": {},
   "outputs": [
    {
     "name": "stdout",
     "output_type": "stream",
     "text": [
      "First Cabin Class\n",
      "$\n",
      "1,842\n",
      "Round Trip\n",
      "Select this Flight\n"
     ]
    }
   ],
   "source": [
    "first = driver.find_element(By.XPATH, '/html/body/app-root/div/div[2]/app-flight-result-view/div/div[2]/div/app-grid-flight-result-container/div[2]/div/app-grid-fare-cell/div/div[4]/div/app-grid-fare-cell-modal/a').text\n",
    "print(first)"
   ]
  }
 ],
 "metadata": {
  "kernelspec": {
   "display_name": "Python 3",
   "language": "python",
   "name": "python3"
  },
  "language_info": {
   "codemirror_mode": {
    "name": "ipython",
    "version": 3
   },
   "file_extension": ".py",
   "mimetype": "text/x-python",
   "name": "python",
   "nbconvert_exporter": "python",
   "pygments_lexer": "ipython3",
   "version": "3.11.2"
  },
  "orig_nbformat": 4
 },
 "nbformat": 4,
 "nbformat_minor": 2
}
